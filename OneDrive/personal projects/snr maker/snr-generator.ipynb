{
 "cells": [
  {
   "cell_type": "markdown",
   "id": "0b12b550",
   "metadata": {},
   "source": [
    "# Slowed and Reverb Music Video Maker\n",
    "\n",
    "References to project:"
   ]
  },
  {
   "cell_type": "markdown",
   "id": "3dde417b",
   "metadata": {},
   "source": [
    "Import relevant libraries for this project."
   ]
  },
  {
   "cell_type": "code",
   "execution_count": null,
   "id": "71193189",
   "metadata": {},
   "outputs": [],
   "source": [
    "import this"
   ]
  }
 ],
 "metadata": {
  "kernelspec": {
   "display_name": "Python 3 (ipykernel)",
   "language": "python",
   "name": "python3"
  },
  "language_info": {
   "codemirror_mode": {
    "name": "ipython",
    "version": 3
   },
   "file_extension": ".py",
   "mimetype": "text/x-python",
   "name": "python",
   "nbconvert_exporter": "python",
   "pygments_lexer": "ipython3",
   "version": "3.10.5"
  }
 },
 "nbformat": 4,
 "nbformat_minor": 5
}
