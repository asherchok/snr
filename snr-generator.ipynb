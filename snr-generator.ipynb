{
 "cells": [
  {
   "cell_type": "markdown",
   "id": "0b12b550",
   "metadata": {},
   "source": [
    "# Slowed and Reverb Music Video Maker\n",
    "\n",
    "References to project:"
   ]
  },
  {
   "cell_type": "markdown",
   "id": "3dde417b",
   "metadata": {},
   "source": [
    "Import relevant libraries for this project."
   ]
  },
  {
   "cell_type": "code",
   "execution_count": null,
   "id": "71193189",
   "metadata": {},
   "outputs": [],
   "source": [
    "import"
   ]
  },
  {
   "cell_type": "markdown",
   "id": "3ddb5cee",
   "metadata": {},
   "source": [
    "Enter the name of the song you want to convert:"
   ]
  },
  {
   "cell_type": "code",
   "execution_count": 1,
   "id": "9f35c1a1",
   "metadata": {},
   "outputs": [
    {
     "name": "stdout",
     "output_type": "stream",
     "text": [
      "Please enter the name of the song you would like to convert:\n",
      "> justin bieber baby\n"
     ]
    }
   ],
   "source": [
    "print('Please enter the name of the song you would like to convert:')\n",
    "song_name = input('> ')"
   ]
  },
  {
   "cell_type": "markdown",
   "id": "04db226a",
   "metadata": {},
   "source": [
    "Query spotify playlist to choose the song to convert to mp3:"
   ]
  },
  {
   "cell_type": "code",
   "execution_count": null,
   "id": "390ec188",
   "metadata": {},
   "outputs": [],
   "source": []
  }
 ],
 "metadata": {
  "kernelspec": {
   "display_name": "Python 3 (ipykernel)",
   "language": "python",
   "name": "python3"
  },
  "language_info": {
   "codemirror_mode": {
    "name": "ipython",
    "version": 3
   },
   "file_extension": ".py",
   "mimetype": "text/x-python",
   "name": "python",
   "nbconvert_exporter": "python",
   "pygments_lexer": "ipython3",
   "version": "3.10.5"
  }
 },
 "nbformat": 4,
 "nbformat_minor": 5
}
