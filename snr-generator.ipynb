{
 "cells": [
  {
   "cell_type": "markdown",
   "id": "0b12b550",
   "metadata": {},
   "source": [
    "# Slowed and Reverb Music Video Maker\n",
    "\n",
    "References to project: [Youtube video downloader on SO](https://stackoverflow.com/questions/65802599/how-to-download-youtube-video-in-the-highest-quality-available)\n",
    "\n",
    "References for download progress bar from: [1](https://stackoverflow.com/questions/56197879/how-to-use-progress-bar-in-pytube) and [2](https://stackoverflow.com/questions/56197879/how-to-use-progress-bar-in-pytube)."
   ]
  },
  {
   "cell_type": "markdown",
   "id": "3dde417b",
   "metadata": {},
   "source": [
    "Import relevant libraries for this project."
   ]
  },
  {
   "cell_type": "code",
   "execution_count": 18,
   "id": "71193189",
   "metadata": {},
   "outputs": [],
   "source": [
    "#YouTube library\n",
    "import pytube\n",
    "from pytube.cli import on_progress\n",
    "\n",
    "#for loading bar\n",
    "\n",
    "import sys"
   ]
  },
  {
   "cell_type": "markdown",
   "id": "3d8f09bb",
   "metadata": {},
   "source": [
    "Specify the PATH for the videos to be saved here:"
   ]
  },
  {
   "cell_type": "code",
   "execution_count": 13,
   "id": "5a78e35d",
   "metadata": {},
   "outputs": [
    {
     "name": "stdout",
     "output_type": "stream",
     "text": [
      "> C:\\Users\\asher\\Downloads\n"
     ]
    }
   ],
   "source": [
    "PATH = input(\"> \")"
   ]
  },
  {
   "cell_type": "markdown",
   "id": "3ddb5cee",
   "metadata": {},
   "source": [
    "Insert the URL of the song you want to convert. "
   ]
  },
  {
   "cell_type": "code",
   "execution_count": 35,
   "id": "9f35c1a1",
   "metadata": {},
   "outputs": [
    {
     "name": "stdout",
     "output_type": "stream",
     "text": [
      "> https://www.youtube.com/watch?v=I1qsF0WQy8c\n",
      "Download Complete!████████████████████████████████████| 100.0%\n"
     ]
    }
   ],
   "source": [
    "#video downloader\n",
    "def download():\n",
    "    video_url = url\n",
    "    try:\n",
    "        youtube = pytube.YouTube(video_url, on_progress_callback = progress_func)\n",
    "        video = youtube.streams.last()\n",
    "        video.download(PATH)\n",
    "        print(\"Download Complete!\")\n",
    "    except Exception as e:\n",
    "        print(e)\n",
    "        print(\"Video could not be downloaded.\")\n",
    "\n",
    "#progress bar function        \n",
    "def progress_func(stream, chunk, bytes_remaining):\n",
    "    current = ((stream.filesize - bytes_remaining)/stream.filesize)\n",
    "    percent = ('{0:.1f}').format(current * 100)\n",
    "    progress = int(50 * current)\n",
    "    status = '█' * progress + '-' * (50 - progress)\n",
    "    sys.stdout.write(' ↳ |{bar}| {percent}%\\r'.format(bar = status, percent = percent))\n",
    "    sys.stdout.flush()\n",
    "    \n",
    "url = input(\"> \")\n",
    "download()"
   ]
  },
  {
   "cell_type": "markdown",
   "id": "bd7eb983",
   "metadata": {},
   "source": [
    "Select a GIF to loop for the entire duration of the video."
   ]
  },
  {
   "cell_type": "code",
   "execution_count": null,
   "id": "c3ec589b",
   "metadata": {},
   "outputs": [],
   "source": []
  }
 ],
 "metadata": {
  "kernelspec": {
   "display_name": "Python 3 (ipykernel)",
   "language": "python",
   "name": "python3"
  },
  "language_info": {
   "codemirror_mode": {
    "name": "ipython",
    "version": 3
   },
   "file_extension": ".py",
   "mimetype": "text/x-python",
   "name": "python",
   "nbconvert_exporter": "python",
   "pygments_lexer": "ipython3",
   "version": "3.10.5"
  }
 },
 "nbformat": 4,
 "nbformat_minor": 5
}
