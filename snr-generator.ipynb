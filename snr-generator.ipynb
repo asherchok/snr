{
 "cells": [
  {
   "cell_type": "markdown",
   "id": "0b12b550",
   "metadata": {},
   "source": [
    "# Slowed and Reverb Music Video Maker\n",
    "\n",
    "This notebook works best with [YouTube Music](music.youtube.com) (due to the auto naming feature when generating S&R videos at last step). Alternatively, the original [YouTube website](youtube.com) works for this code.\n",
    "\n",
    "Having issues with this notebook? Reach out to me [here](https://github.com/asherchok/snr/issues)."
   ]
  },
  {
   "cell_type": "markdown",
   "id": "3d8f09bb",
   "metadata": {},
   "source": [
    "### Specify the PATH for the videos to be saved here"
   ]
  },
  {
   "cell_type": "code",
   "execution_count": null,
   "id": "5a78e35d",
   "metadata": {},
   "outputs": [],
   "source": [
    "print(\n",
    "\"\"\"\n",
    "Insert file directory to save videos down here without \\\\ at the end. \n",
    "For example, C:\\\\Users\\\\user\\\\Downloads instead of C:\\\\Users\\\\user\\\\Downloads\\\\.\n",
    "\"\"\"\n",
    ")\n",
    "PATH = input(\"> \")"
   ]
  },
  {
   "cell_type": "markdown",
   "id": "481d52b1",
   "metadata": {},
   "source": [
    "### Run this block to get mp3 file and modify speed & reverb of the mp3"
   ]
  },
  {
   "cell_type": "code",
   "execution_count": null,
   "id": "391ff139",
   "metadata": {},
   "outputs": [],
   "source": [
    "#library for (1) downloading youtube videos\n",
    "from __future__ import unicode_literals\n",
    "import youtube_dl\n",
    "\n",
    "#library for (2) audio modification & ipywidgets\n",
    "import glob\n",
    "import os\n",
    "import time\n",
    "\n",
    "from ipywidgets import interact\n",
    "import ipywidgets as widgets\n",
    "from pedalboard.io import AudioFile\n",
    "from IPython.display import Audio \n",
    "from pedalboard import Pedalboard, Reverb, Resample\n",
    "from IPython.display import display\n",
    "\n",
    "\n",
    "###(1) code block for youtube videos\n",
    "print('Paste youtube URL?')\n",
    "url_choice = input(\"> \")\n",
    "\n",
    "tempfileloc = PATH + '\\\\temp\\\\%(title)s.%(ext)s'\n",
    "tempfileloc_wav = PATH + '\\\\temp\\\\processed-output.wav' #for (2)\n",
    "\n",
    "ydl_opts = {\n",
    "    'outtmpl': tempfileloc ,\n",
    "    'format': 'bestaudio/best',\n",
    "    'postprocessors': [{\n",
    "        'key': 'FFmpegExtractAudio',\n",
    "        'preferredcodec': 'mp3',\n",
    "        'preferredquality': '320',\n",
    "    }],\n",
    "}\n",
    "\n",
    "with youtube_dl.YoutubeDL(ydl_opts) as ydl:\n",
    "    ydl.download([url_choice])\n",
    "    \n",
    "\n",
    "###(2) code block for audio modification & ipywidgets\n",
    "mostrecent = PATH + '\\\\temp\\\\*'\n",
    "recentfile = glob.glob(mostrecent)\n",
    "audioname = max(recentfile, key=os.path.getctime) #set most recent generated mp3 in /temp/ to wanted audio file\n",
    "\n",
    "def audiomodifier(speed, reverb_rate):\n",
    "    global updated_mp3_path, audioname\n",
    "    \n",
    "    output = widgets.Output()\n",
    "    display(output)\n",
    "    with output:\n",
    "        print(\"Loading... Please wait.\")\n",
    "    with AudioFile(audioname) as f:\n",
    "        audio = f.read(f.frames)\n",
    "        samplerate = f.samplerate\n",
    "\n",
    "    pedals = []\n",
    "    if reverb_rate != 0:\n",
    "        pedals.append(Reverb(room_size=reverb_rate))\n",
    "    # add the Resample pedal to the list of pedals, specifying the target sample rate and quality\n",
    "    pedals.append(Resample(target_sample_rate=int(samplerate * speed), quality=Resample.Quality.WindowedSinc))\n",
    "    \n",
    "    board = Pedalboard(pedals)\n",
    "    effected = board(audio, samplerate)\n",
    "    \n",
    "    #show original downloaded mp3 if original settings, else show modified ones:\n",
    "    if speed == 1.0 and reverb_rate == 0.0:\n",
    "        display(Audio(data=audio, rate=samplerate, autoplay=True))\n",
    "    else:\n",
    "        samplerate2 = int(samplerate * speed)\n",
    "        display(Audio(data=effected, rate=samplerate2, autoplay=True))\n",
    "        with AudioFile(tempfileloc_wav, 'w', samplerate2, effected.shape[0]) as f:\n",
    "            f.write(effected)\n",
    "    output.clear_output()\n",
    "    return speed, reverb_rate\n",
    "\n",
    "print(\"\"\"\n",
    "Adjust the slow & reverb of the song with the slider! Usually speed = 0.85 & reverb = 0.10 sounds really nice for S&R songs.\n",
    "\n",
    "It takes like around a minute to process the song everytime the slider gets adjusted.\n",
    "\n",
    "Like what you're listening? Proceed to the next block to select GIF.\n",
    "\\n\n",
    "\"\"\")\n",
    "interact(audiomodifier, speed=widgets.FloatSlider(min=0.1, max=3.0, step=0.05, value=0.85), \n",
    "                reverb_rate=widgets.FloatSlider(min=0., max=1.0, step=0.05, value=0.1), delay=4)"
   ]
  },
  {
   "cell_type": "markdown",
   "id": "bd7eb983",
   "metadata": {},
   "source": [
    "### Select a GIF to loop for the entire duration of the video."
   ]
  },
  {
   "cell_type": "code",
   "execution_count": null,
   "id": "c3ec589b",
   "metadata": {
    "scrolled": false
   },
   "outputs": [],
   "source": [
    "from ipyfilechooser import FileChooser\n",
    "fc = FileChooser()\n",
    "# Can put PATH into FileChooser argument if GIFs are saved in the same directory as the .mp4 files\n",
    "display(fc)"
   ]
  },
  {
   "cell_type": "markdown",
   "id": "8d6e207d",
   "metadata": {},
   "source": [
    "###  (Optional) Confirm your selection of your GIF by running this block"
   ]
  },
  {
   "cell_type": "code",
   "execution_count": null,
   "id": "6e511dca",
   "metadata": {},
   "outputs": [],
   "source": [
    "print('You have selected: \\n')\n",
    "print(fc.selected_filename)\n",
    "\n",
    "file = open(selected_gif_path, \"rb\")\n",
    "image = file.read()\n",
    "widgets.Image(\n",
    "    value=image,\n",
    "    format='gif',\n",
    ")"
   ]
  },
  {
   "cell_type": "markdown",
   "id": "5b6379b0",
   "metadata": {},
   "source": [
    "## Code block for fonts in video\n",
    "\n",
    "Font is set to Brush-Script-MT-Italic for the fancy font by default. Need alternative fonts other than the default? Select other fonts with the drop down selection box.\n",
    "\n",
    "Note that some fonts might not display properly on notebook."
   ]
  },
  {
   "cell_type": "code",
   "execution_count": null,
   "id": "217085df",
   "metadata": {
    "scrolled": true
   },
   "outputs": [],
   "source": [
    "from IPython.display import display, HTML\n",
    "import ipywidgets as widgets\n",
    "\n",
    "#read in the text file with the list of fonts\n",
    "with open(\"textclipfonts.txt\", \"r\") as f:\n",
    "    fonts = [line.strip() for line in f]\n",
    "\n",
    "#create a dropdown widget with the list of fonts\n",
    "dropdown = widgets.Dropdown(options=fonts, value='Brush-Script-MT-Italic')\n",
    "\n",
    "#default font\n",
    "font= 'Brush-Script-MT-Italic'\n",
    "\n",
    "#function to update the sample text when a new font is selected\n",
    "def update_font(change):\n",
    "    global font\n",
    "    font = change['new']  # Get the new font from the dropdown widget\n",
    "    # Set the font of the sample text to the selected font\n",
    "    sample_text.value = f\"<span style='font-family:{font}; font-size:30px;'>Selected font</span>\"\n",
    "\n",
    "#attach the update function to the dropdown widget's `observe` event\n",
    "dropdown.observe(update_font, names='value')\n",
    "\n",
    "#create a text widget to display the sample text\n",
    "sample_text = widgets.HTML(value=\"Selected font\")\n",
    "\n",
    "#display the dropdown and sample text widgets\n",
    "display(dropdown)\n",
    "display(sample_text)"
   ]
  },
  {
   "cell_type": "markdown",
   "id": "e15bb3a7",
   "metadata": {},
   "source": [
    "# Run this block to get a Slowed & Reverb video!"
   ]
  },
  {
   "cell_type": "code",
   "execution_count": null,
   "id": "9bb367b3",
   "metadata": {},
   "outputs": [],
   "source": [
    "import moviepy.editor as mp\n",
    "from moviepy.editor import ColorClip,TextClip,AudioFileClip\n",
    "import os #for video file name\n",
    "import shutil #for removing temp folder\n",
    "\n",
    "#audio\n",
    "audioclip = AudioFileClip(tempfileloc_wav)\n",
    "\n",
    "#dark background\n",
    "hdres = [1280, 720]\n",
    "black_clip = ColorClip(size = hdres, color = [0,0,0]).set_duration(audioclip.duration)\n",
    "\n",
    "#selected GIF\n",
    "selected_gif_path = fc.selected\n",
    "animated_gif = (mp.VideoFileClip(selected_gif_path)\n",
    "          .resize(width=int(0.5 * black_clip.size[0]), height=int(0.5 * black_clip.size[1]))\n",
    "          .loop()\n",
    "          .set_duration(audioclip.duration)\n",
    "          .set_pos((\"center\",\"center\")))\n",
    "\n",
    "#custom made formula to set words below the animated GIF\n",
    "var_y = 0.5 * (black_clip.size[1] - animated_gif.size[1])\n",
    "new_y = animated_gif.size[1] + 1.25 * var_y\n",
    "new_x = \"center\" \n",
    "\n",
    "#audio file rename so that file gets saved outside of temp folder\n",
    "filename_abbrv = (os.path.splitext(recentfile[0])[0]).replace(\"\\\\temp\", \"\")\n",
    "#Title\n",
    "#file_name, file_ext = os.path.splitext(filename_abbrv)\n",
    "#titlename = file_name\n",
    "name_caption = filename_abbrv.replace(PATH + '\\\\', \"\")  + ' (slowed & Reverbed)'\n",
    "#name_caption = 'Artist - Song Name'  + ' (slowed & Reverbed)'\n",
    "title_clip = TextClip(txt=name_caption, fontsize=30, font=font, color='white')\n",
    "title = title_clip.set_pos((new_x,new_y)).set_duration(audioclip.duration)\n",
    "\n",
    "setaudioclip = animated_gif.set_audio(audioclip)\n",
    "\n",
    "finalfilename = filename_abbrv + ' (Slowed & Reverb).mp4'\n",
    "final = mp.CompositeVideoClip([black_clip, setaudioclip, title])\n",
    "final.write_videofile(finalfilename)\n",
    "\n",
    "## delete temp folder line\n",
    "deletetempfolder = PATH + '\\\\temp'\n",
    "shutil.rmtree(deletetempfolder)"
   ]
  }
 ],
 "metadata": {
  "kernelspec": {
   "display_name": "Python 3 (ipykernel)",
   "language": "python",
   "name": "python3"
  },
  "language_info": {
   "codemirror_mode": {
    "name": "ipython",
    "version": 3
   },
   "file_extension": ".py",
   "mimetype": "text/x-python",
   "name": "python",
   "nbconvert_exporter": "python",
   "pygments_lexer": "ipython3",
   "version": "3.10.5"
  }
 },
 "nbformat": 4,
 "nbformat_minor": 5
}
