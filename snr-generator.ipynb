{
 "cells": [
  {
   "cell_type": "markdown",
   "id": "0b12b550",
   "metadata": {},
   "source": [
    "# Slowed and Reverb Music Video Maker\n",
    "\n",
    "References to project:\n",
    "- [Youtube video downloader on SO](https://stackoverflow.com/questions/65802599/how-to-download-youtube-video-in-the-highest-quality-available)\n",
    "- [File Chooser widget](https://pypi.org/project/ipyfilechooser/)\n",
    "- [Attach GIF to video with Moviepy](https://github.com/Zulko/moviepy/issues/127)\n",
    "\n",
    "- References for download progress bar from: [1](https://stackoverflow.com/questions/56197879/how-to-use-progress-bar-in-pytube) and [2](https://stackoverflow.com/questions/56197879/how-to-use-progress-bar-in-pytube).\n",
    "\n",
    "- (Attention) MoviePy too slow to make video. Potential fixes [here](https://stackoverflow.com/questions/56413813/concat-videos-too-slow-using-python-moviepy)\n",
    "\n",
    "pip installs:\n",
    "- pytube\n",
    "- ipyfilechooser\n",
    "- moviepy\n",
    "\n",
    "Moviepy code block does not work for every computer? Check `pip list`"
   ]
  },
  {
   "cell_type": "markdown",
   "id": "3dde417b",
   "metadata": {},
   "source": [
    "Import relevant libraries for this project."
   ]
  },
  {
   "cell_type": "code",
   "execution_count": 4,
   "id": "71193189",
   "metadata": {},
   "outputs": [],
   "source": [
    "#YouTube library\n",
    "import pytube\n",
    "from pytube.cli import on_progress\n",
    "import sys\n",
    "from ipyfilechooser import FileChooser\n",
    "import ipywidgets as widgets"
   ]
  },
  {
   "cell_type": "markdown",
   "id": "3d8f09bb",
   "metadata": {},
   "source": [
    "### Specify the PATH for the videos to be saved here:\n",
    "\n",
    "Already have a .mp4 file saved on computer ready? Skip the following steps and head to section `Select a GIF to loop for the entire duration of the video`."
   ]
  },
  {
   "cell_type": "code",
   "execution_count": 5,
   "id": "5a78e35d",
   "metadata": {},
   "outputs": [
    {
     "name": "stdout",
     "output_type": "stream",
     "text": [
      "> C:\\Users\\asher\\OneDrive\\personal projects\\snr maker\n"
     ]
    }
   ],
   "source": [
    "PATH = input(\"> \")"
   ]
  },
  {
   "cell_type": "markdown",
   "id": "3ddb5cee",
   "metadata": {},
   "source": [
    "### Insert the URL of the song you want to convert. "
   ]
  },
  {
   "cell_type": "code",
   "execution_count": 6,
   "id": "9f35c1a1",
   "metadata": {},
   "outputs": [
    {
     "name": "stdout",
     "output_type": "stream",
     "text": [
      "> https://youtu.be/6Tldvp8adQ4\n",
      "Download Complete!   \n"
     ]
    }
   ],
   "source": [
    "#video downloader\n",
    "def download():\n",
    "    video_url = url\n",
    "    try:\n",
    "        youtube = pytube.YouTube(video_url, on_progress_callback = progress_func)\n",
    "        video = youtube.streams.filter(file_extension='mp4', only_audio=False, progressive=True).last()\n",
    "        video.download(PATH)\n",
    "        print(\"Download Complete!   \")\n",
    "    except Exception as e:\n",
    "        print(e)\n",
    "        print(\"Video could not be downloaded.\")\n",
    "\n",
    "#progress bar function        \n",
    "def progress_func(stream, chunk, bytes_remaining):\n",
    "    current = ((stream.filesize - bytes_remaining)/stream.filesize)\n",
    "    percent = ('{0:.1f}').format(current * 100)\n",
    "    progress = int(50 * current)\n",
    "    status = '█' * progress + '-' * (50 - progress)\n",
    "    sys.stdout.write(' ↳ |{bar}| {percent}%\\r'.format(bar = status, percent = percent))\n",
    "    sys.stdout.flush()\n",
    "    \n",
    "url = input(\"> \")\n",
    "download()"
   ]
  },
  {
   "cell_type": "markdown",
   "id": "bd7eb983",
   "metadata": {},
   "source": [
    "### Select a GIF to loop for the entire duration of the video."
   ]
  },
  {
   "cell_type": "code",
   "execution_count": 7,
   "id": "c3ec589b",
   "metadata": {
    "scrolled": true
   },
   "outputs": [
    {
     "data": {
      "application/vnd.jupyter.widget-view+json": {
       "model_id": "eae27815797b497694699627cc0a9d31",
       "version_major": 2,
       "version_minor": 0
      },
      "text/plain": [
       "FileChooser(path='C:\\Users\\asher\\OneDrive\\personal projects\\snr maker', filename='', title='', show_hidden=Fal…"
      ]
     },
     "metadata": {},
     "output_type": "display_data"
    }
   ],
   "source": [
    "fc = FileChooser()\n",
    "# Can put PATH into FileChooser argument if GIFs are saved in the same directory as the .mp4 files\n",
    "display(fc)"
   ]
  },
  {
   "cell_type": "code",
   "execution_count": 8,
   "id": "6e511dca",
   "metadata": {},
   "outputs": [
    {
     "name": "stdout",
     "output_type": "stream",
     "text": [
      "You have selected: \n",
      "\n",
      "cowboy-bebop-ed.gif\n"
     ]
    },
    {
     "data": {
      "application/vnd.jupyter.widget-view+json": {
       "model_id": "ce60b4426df642aa877f2cbb866ebd18",
       "version_major": 2,
       "version_minor": 0
      },
      "text/plain": [
       "Image(value=b'GIF89a\\xdc\\x00\\xa5\\x00\\xf7\\xc0\\x00\\x00\\x00\\x00\\x00\\x00\\x00\\x00\\x00\\x00\\x00\\x00\\x00\\x00\\x00\\x00\\x…"
      ]
     },
     "execution_count": 8,
     "metadata": {},
     "output_type": "execute_result"
    }
   ],
   "source": [
    "print('You have selected: \\n')\n",
    "print(fc.selected_filename)\n",
    "selected_gif_path = fc.selected\n",
    "\n",
    "file = open(selected_gif_path, \"rb\")\n",
    "image = file.read()\n",
    "widgets.Image(\n",
    "    value=image,\n",
    "    format='gif',\n",
    "    width=300,\n",
    "    height=400,\n",
    ")"
   ]
  },
  {
   "cell_type": "markdown",
   "id": "d7cadc96",
   "metadata": {},
   "source": [
    "## Choose a video to be combined with the GIF"
   ]
  },
  {
   "cell_type": "code",
   "execution_count": 9,
   "id": "d4b38756",
   "metadata": {},
   "outputs": [
    {
     "data": {
      "application/vnd.jupyter.widget-view+json": {
       "model_id": "8da6d77f47454588837ae2d55e2b41d1",
       "version_major": 2,
       "version_minor": 0
      },
      "text/plain": [
       "FileChooser(path='C:\\Users\\asher\\OneDrive\\personal projects\\snr maker', filename='', title='', show_hidden=Fal…"
      ]
     },
     "metadata": {},
     "output_type": "display_data"
    }
   ],
   "source": [
    "vc = FileChooser()\n",
    "# Can put PATH into FileChooser argument if vids are saved in the same directory\n",
    "display(vc)"
   ]
  },
  {
   "cell_type": "code",
   "execution_count": 11,
   "id": "9bb367b3",
   "metadata": {},
   "outputs": [
    {
     "name": "stdout",
     "output_type": "stream",
     "text": [
      "Moviepy - Building video test.mp4.\n",
      "MoviePy - Writing audio in testTEMP_MPY_wvf_snd.mp3\n"
     ]
    },
    {
     "name": "stderr",
     "output_type": "stream",
     "text": [
      "                                                                                                                       \r"
     ]
    },
    {
     "name": "stdout",
     "output_type": "stream",
     "text": [
      "MoviePy - Done.\n",
      "Moviepy - Writing video test.mp4\n",
      "\n"
     ]
    },
    {
     "name": "stderr",
     "output_type": "stream",
     "text": [
      "                                                                                                                       \r"
     ]
    },
    {
     "name": "stdout",
     "output_type": "stream",
     "text": [
      "Moviepy - Done !\n",
      "Moviepy - video ready test.mp4\n"
     ]
    }
   ],
   "source": [
    "import moviepy.editor as mp\n",
    "from moviepy.editor import ColorClip\n",
    "import os #for video file name\n",
    "\n",
    "#Selected Video\n",
    "PATH_V = vc.selected\n",
    "video_dl = mp.VideoFileClip(PATH_V)\n",
    "#video file rename\n",
    "vidfilename = vc.selected_filename\n",
    "vidfilename_abbrv = os.path.splitext(vidfilename)[0]\n",
    "\n",
    "#Dark background\n",
    "black_clip = ColorClip(size = video_dl.size, color = [0,0,0]).set_duration(video_dl.duration)\n",
    "\n",
    "#Selected GIF\n",
    "animated_gif = (mp.VideoFileClip(selected_gif_path)\n",
    "          .loop()\n",
    "          .set_duration(video_dl.duration)\n",
    "          .resize(width=200, height=300)\n",
    "          .margin(right=8, top=8, opacity=0)\n",
    "          .set_pos((\"center\",\"center\")))\n",
    "\n",
    "#Title\n",
    "#name_caption = vidfilename_abbrv + ' (slowed)'\n",
    "#title = TextClip(\"My Title\", fontsize=70, color='white')\n",
    "#title = title_clip.set_pos('bottom')\n",
    "\n",
    "final = mp.CompositeVideoClip([video_dl, black_clip, animated_gif]) #title])\n",
    "final.write_videofile(\"test.mp4\")"
   ]
  },
  {
   "cell_type": "code",
   "execution_count": null,
   "id": "aa39c9ce",
   "metadata": {},
   "outputs": [],
   "source": []
  }
 ],
 "metadata": {
  "kernelspec": {
   "display_name": "Python 3 (ipykernel)",
   "language": "python",
   "name": "python3"
  },
  "language_info": {
   "codemirror_mode": {
    "name": "ipython",
    "version": 3
   },
   "file_extension": ".py",
   "mimetype": "text/x-python",
   "name": "python",
   "nbconvert_exporter": "python",
   "pygments_lexer": "ipython3",
   "version": "3.10.5"
  }
 },
 "nbformat": 4,
 "nbformat_minor": 5
}
