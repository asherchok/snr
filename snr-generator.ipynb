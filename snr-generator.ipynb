{
 "cells": [
  {
   "cell_type": "markdown",
   "id": "0b12b550",
   "metadata": {},
   "source": [
    "# Slowed and Reverb Music Video Maker\n",
    "\n",
    "References to project:\n",
    "- [Youtube video downloader on SO](https://stackoverflow.com/questions/65802599/how-to-download-youtube-video-in-the-highest-quality-available)\n",
    "- [File Chooser widget](https://pypi.org/project/ipyfilechooser/)\n",
    "- [Attach GIF to video with Moviepy](https://github.com/Zulko/moviepy/issues/127)\n",
    "\n",
    "- References for download progress bar from: [1](https://stackoverflow.com/questions/56197879/how-to-use-progress-bar-in-pytube) and [2](https://stackoverflow.com/questions/56197879/how-to-use-progress-bar-in-pytube).\n",
    "\n",
    "- (Attention) MoviePy too slow to make video. Potential fixes [here](https://stackoverflow.com/questions/56413813/concat-videos-too-slow-using-python-moviepy)\n",
    "\n",
    "pip installs:\n",
    "- pytube\n",
    "- ipyfilechooser\n",
    "- moviepy\n",
    "\n",
    "Need to install ImageMagick [here](https://imagemagick.org/script/download.php) for TextClip function to work. During installation, check the following two options:\n",
    "- Associate supported file extensions with ImageMagick\n",
    "- Install legacy utilities (e.g. convert)\n",
    "\n",
    "Moviepy code block does not work for every computer? Check `pip list`"
   ]
  },
  {
   "cell_type": "markdown",
   "id": "3dde417b",
   "metadata": {},
   "source": [
    "Import relevant libraries for this project."
   ]
  },
  {
   "cell_type": "code",
   "execution_count": 1,
   "id": "71193189",
   "metadata": {},
   "outputs": [],
   "source": [
    "#YouTube library\n",
    "import pytube\n",
    "from pytube.cli import on_progress\n",
    "import sys\n",
    "from ipyfilechooser import FileChooser\n",
    "import ipywidgets as widgets"
   ]
  },
  {
   "cell_type": "markdown",
   "id": "3d8f09bb",
   "metadata": {},
   "source": [
    "### Specify the PATH for the videos to be saved here:\n",
    "\n",
    "Already have a .mp4 file saved on computer ready? Skip the following steps and head to section `Select a GIF to loop for the entire duration of the video`."
   ]
  },
  {
   "cell_type": "code",
   "execution_count": 2,
   "id": "5a78e35d",
   "metadata": {},
   "outputs": [
    {
     "name": "stdout",
     "output_type": "stream",
     "text": [
      "> C:\\Users\\asher\\OneDrive\\personal projects\\snr maker\n"
     ]
    }
   ],
   "source": [
    "PATH = input(\"> \")"
   ]
  },
  {
   "cell_type": "markdown",
   "id": "3ddb5cee",
   "metadata": {},
   "source": [
    "### Insert the URL of the song you want to convert. "
   ]
  },
  {
   "cell_type": "code",
   "execution_count": 6,
   "id": "9f35c1a1",
   "metadata": {},
   "outputs": [
    {
     "name": "stdout",
     "output_type": "stream",
     "text": [
      "> https://youtu.be/6Tldvp8adQ4\n",
      "Download Complete!   \n"
     ]
    }
   ],
   "source": [
    "#video downloader\n",
    "def download():\n",
    "    video_url = url\n",
    "    try:\n",
    "        youtube = pytube.YouTube(video_url, on_progress_callback = progress_func)\n",
    "        video = youtube.streams.filter(file_extension='mp4', only_audio=False, progressive=True).last()\n",
    "        video.download(PATH)\n",
    "        print(\"Download Complete!   \")\n",
    "    except Exception as e:\n",
    "        print(e)\n",
    "        print(\"Video could not be downloaded.\")\n",
    "\n",
    "#progress bar function        \n",
    "def progress_func(stream, chunk, bytes_remaining):\n",
    "    current = ((stream.filesize - bytes_remaining)/stream.filesize)\n",
    "    percent = ('{0:.1f}').format(current * 100)\n",
    "    progress = int(50 * current)\n",
    "    status = '█' * progress + '-' * (50 - progress)\n",
    "    sys.stdout.write(' ↳ |{bar}| {percent}%\\r'.format(bar = status, percent = percent))\n",
    "    sys.stdout.flush()\n",
    "    \n",
    "url = input(\"> \")\n",
    "download()"
   ]
  },
  {
   "cell_type": "markdown",
   "id": "bd7eb983",
   "metadata": {},
   "source": [
    "### Select a GIF to loop for the entire duration of the video."
   ]
  },
  {
   "cell_type": "code",
   "execution_count": 3,
   "id": "c3ec589b",
   "metadata": {
    "scrolled": true
   },
   "outputs": [
    {
     "data": {
      "application/vnd.jupyter.widget-view+json": {
       "model_id": "5a6771c271824016b358e5d101436a9d",
       "version_major": 2,
       "version_minor": 0
      },
      "text/plain": [
       "FileChooser(path='C:\\Users\\asher\\OneDrive\\personal projects\\snr maker', filename='', title='', show_hidden=Fal…"
      ]
     },
     "metadata": {},
     "output_type": "display_data"
    }
   ],
   "source": [
    "fc = FileChooser()\n",
    "# Can put PATH into FileChooser argument if GIFs are saved in the same directory as the .mp4 files\n",
    "display(fc)"
   ]
  },
  {
   "cell_type": "code",
   "execution_count": 4,
   "id": "6e511dca",
   "metadata": {},
   "outputs": [
    {
     "name": "stdout",
     "output_type": "stream",
     "text": [
      "You have selected: \n",
      "\n",
      "cowboy-bebop-ed.gif\n"
     ]
    },
    {
     "data": {
      "application/vnd.jupyter.widget-view+json": {
       "model_id": "8ae81725726b4878b8c04c9a705c6aa2",
       "version_major": 2,
       "version_minor": 0
      },
      "text/plain": [
       "Image(value=b'GIF89a\\xdc\\x00\\xa5\\x00\\xf7\\xc0\\x00\\x00\\x00\\x00\\x00\\x00\\x00\\x00\\x00\\x00\\x00\\x00\\x00\\x00\\x00\\x00\\x…"
      ]
     },
     "execution_count": 4,
     "metadata": {},
     "output_type": "execute_result"
    }
   ],
   "source": [
    "print('You have selected: \\n')\n",
    "print(fc.selected_filename)\n",
    "selected_gif_path = fc.selected\n",
    "\n",
    "file = open(selected_gif_path, \"rb\")\n",
    "image = file.read()\n",
    "widgets.Image(\n",
    "    value=image,\n",
    "    format='gif',\n",
    "    width=300,\n",
    "    height=400,\n",
    ")"
   ]
  },
  {
   "cell_type": "markdown",
   "id": "d7cadc96",
   "metadata": {},
   "source": [
    "## Choose a video to be combined with the GIF"
   ]
  },
  {
   "cell_type": "code",
   "execution_count": 5,
   "id": "d4b38756",
   "metadata": {},
   "outputs": [
    {
     "data": {
      "application/vnd.jupyter.widget-view+json": {
       "model_id": "a99733438c904a67867ee0cdcb4232ec",
       "version_major": 2,
       "version_minor": 0
      },
      "text/plain": [
       "FileChooser(path='C:\\Users\\asher\\OneDrive\\personal projects\\snr maker', filename='', title='', show_hidden=Fal…"
      ]
     },
     "metadata": {},
     "output_type": "display_data"
    }
   ],
   "source": [
    "vc = FileChooser()\n",
    "# Can put PATH into FileChooser argument if vids are saved in the same directory\n",
    "display(vc)"
   ]
  },
  {
   "cell_type": "code",
   "execution_count": 9,
   "id": "53c69d3d",
   "metadata": {
    "scrolled": true
   },
   "outputs": [
    {
     "data": {
      "text/plain": [
       "['AdobeDevanagari-Bold',\n",
       " 'AdobeDevanagari-BoldItalic',\n",
       " 'AdobeDevanagari-Italic',\n",
       " 'AdobeDevanagari-Regular',\n",
       " 'Agency-FB',\n",
       " 'Agency-FB-Bold',\n",
       " 'Algerian',\n",
       " 'Arial',\n",
       " 'Arial-Black',\n",
       " 'Arial-Bold',\n",
       " 'Arial-Bold-Italic',\n",
       " 'Arial-Italic',\n",
       " 'Arial-Narrow',\n",
       " 'Arial-Narrow-Bold',\n",
       " 'Arial-Narrow-Bold-Italic',\n",
       " 'Arial-Narrow-Italic',\n",
       " 'Arial-Rounded-MT-Bold',\n",
       " 'Bahnschrift',\n",
       " 'Baskerville-Old-Face',\n",
       " 'Bauhaus-93',\n",
       " 'Bell-MT',\n",
       " 'Bell-MT-Bold',\n",
       " 'Bell-MT-Italic',\n",
       " 'Berlin-Sans-FB',\n",
       " 'Berlin-Sans-FB-Bold',\n",
       " 'Berlin-Sans-FB-Demi-Bold',\n",
       " 'Bernard-MT-Condensed',\n",
       " 'Blackadder-ITC',\n",
       " 'Bodoni-MT',\n",
       " 'Bodoni-MT-Black',\n",
       " 'Bodoni-MT-Black-Italic',\n",
       " 'Bodoni-MT-Bold',\n",
       " 'Bodoni-MT-Bold-Italic',\n",
       " 'Bodoni-MT-Condensed',\n",
       " 'Bodoni-MT-Condensed-Bold',\n",
       " 'Bodoni-MT-Condensed-Bold-Italic',\n",
       " 'Bodoni-MT-Condensed-Italic',\n",
       " 'Bodoni-MT-Italic',\n",
       " 'Bodoni-MT-Poster-Compressed',\n",
       " 'Book-Antiqua',\n",
       " 'Book-Antiqua-Bold',\n",
       " 'Book-Antiqua-Bold-Italic',\n",
       " 'Book-Antiqua-Italic',\n",
       " 'Bookman-Old-Style',\n",
       " 'Bookman-Old-Style-Bold',\n",
       " 'Bookman-Old-Style-Bold-Italic',\n",
       " 'Bookman-Old-Style-Italic',\n",
       " 'Bookshelf-Symbol-7',\n",
       " 'Bradley-Hand-ITC',\n",
       " 'Britannic-Bold',\n",
       " 'Broadway',\n",
       " 'Brush-Script-MT-Italic',\n",
       " 'Calibri',\n",
       " 'Calibri-Bold',\n",
       " 'Calibri-Bold-Italic',\n",
       " 'Calibri-Italic',\n",
       " 'Calibri-Light',\n",
       " 'Calibri-Light-Italic',\n",
       " 'Californian-FB',\n",
       " 'Californian-FB-Bold',\n",
       " 'Californian-FB-Italic',\n",
       " 'Calisto-MT',\n",
       " 'Calisto-MT-Bold',\n",
       " 'Calisto-MT-Bold-Italic',\n",
       " 'Calisto-MT-Italic',\n",
       " 'Cambria-&-Cambria-Math',\n",
       " 'Cambria-Bold',\n",
       " 'Cambria-Bold-Italic',\n",
       " 'Cambria-Italic',\n",
       " 'Candara',\n",
       " 'Candara-Bold',\n",
       " 'Candara-Bold-Italic',\n",
       " 'Candara-Italic',\n",
       " 'Candara-Light',\n",
       " 'Candara-Light-Italic',\n",
       " 'Cascadia-Code-Regular',\n",
       " 'Cascadia-Mono-Regular',\n",
       " 'Castellar',\n",
       " 'Centaur',\n",
       " 'Century',\n",
       " 'Century-Gothic',\n",
       " 'Century-Gothic-Bold',\n",
       " 'Century-Gothic-Bold-Italic',\n",
       " 'Century-Gothic-Italic',\n",
       " 'Century-Schoolbook',\n",
       " 'Century-Schoolbook-Bold',\n",
       " 'Century-Schoolbook-Bold-Italic',\n",
       " 'Century-Schoolbook-Italic',\n",
       " 'Chiller',\n",
       " 'Colonna-MT',\n",
       " 'Comic-Sans-MS',\n",
       " 'Comic-Sans-MS-Bold',\n",
       " 'Comic-Sans-MS-Bold-Italic',\n",
       " 'Comic-Sans-MS-Italic',\n",
       " 'Consolas',\n",
       " 'Consolas-Bold',\n",
       " 'Consolas-Bold-Italic',\n",
       " 'Consolas-Italic',\n",
       " 'Constantia',\n",
       " 'Constantia-Bold',\n",
       " 'Constantia-Bold-Italic',\n",
       " 'Constantia-Italic',\n",
       " 'Cooper-Black',\n",
       " 'Copperplate-Gothic-Bold',\n",
       " 'Copperplate-Gothic-Light',\n",
       " 'Corbel',\n",
       " 'Corbel-Bold',\n",
       " 'Corbel-Bold-Italic',\n",
       " 'Corbel-Italic',\n",
       " 'Corbel-Light',\n",
       " 'Corbel-Light-Italic',\n",
       " 'Courier-New',\n",
       " 'Courier-New-Bold',\n",
       " 'Courier-New-Bold-Italic',\n",
       " 'Courier-New-Italic',\n",
       " 'Curlz-MT',\n",
       " 'DengXian',\n",
       " 'DengXian-Bold',\n",
       " 'DengXian-Light',\n",
       " 'Ebrima',\n",
       " 'Ebrima-Bold',\n",
       " 'Edwardian-Script-ITC',\n",
       " 'Elephant',\n",
       " 'Elephant-Italic',\n",
       " 'Engravers-MT',\n",
       " 'Eras-Bold-ITC',\n",
       " 'Eras-Demi-ITC',\n",
       " 'Eras-Light-ITC',\n",
       " 'Eras-Medium-ITC',\n",
       " 'FangSong',\n",
       " 'Felix-Titling',\n",
       " 'Footlight-MT-Light',\n",
       " 'Forte',\n",
       " 'Franklin-Gothic-Book',\n",
       " 'Franklin-Gothic-Book-Italic',\n",
       " 'Franklin-Gothic-Demi',\n",
       " 'Franklin-Gothic-Demi-Cond',\n",
       " 'Franklin-Gothic-Demi-Italic',\n",
       " 'Franklin-Gothic-Heavy',\n",
       " 'Franklin-Gothic-Heavy-Italic',\n",
       " 'Franklin-Gothic-Medium',\n",
       " 'Franklin-Gothic-Medium-Cond',\n",
       " 'Franklin-Gothic-Medium-Italic',\n",
       " 'Freestyle-Script',\n",
       " 'French-Script-MT',\n",
       " 'Gabriola',\n",
       " 'Gadugi',\n",
       " 'Gadugi-Bold',\n",
       " 'Garamond',\n",
       " 'Garamond-Bold',\n",
       " 'Garamond-Italic',\n",
       " 'Georgia',\n",
       " 'Georgia-Bold',\n",
       " 'Georgia-Bold-Italic',\n",
       " 'Georgia-Italic',\n",
       " 'Gigi',\n",
       " 'Gill-Sans-MT',\n",
       " 'Gill-Sans-MT-Bold',\n",
       " 'Gill-Sans-MT-Bold-Italic',\n",
       " 'Gill-Sans-MT-Condensed',\n",
       " 'Gill-Sans-MT-Ext-Condensed-Bold',\n",
       " 'Gill-Sans-MT-Italic',\n",
       " 'Gill-Sans-Ultra-Bold',\n",
       " 'Gill-Sans-Ultra-Bold-Condensed',\n",
       " 'Gloucester-MT-Extra-Condensed',\n",
       " 'Goudy-Old-Style',\n",
       " 'Goudy-Old-Style-Bold',\n",
       " 'Goudy-Old-Style-Italic',\n",
       " 'Goudy-Stout',\n",
       " 'Haettenschweiler',\n",
       " 'Harlow-Solid-Italic',\n",
       " 'Harrington',\n",
       " 'High-Tower-Text',\n",
       " 'High-Tower-Text-Italic',\n",
       " 'Holo-MDL2-Assets',\n",
       " 'HP-Simplified',\n",
       " 'HP-Simplified-Bold',\n",
       " 'HP-Simplified-Bold-Italic',\n",
       " 'HP-Simplified-Italic',\n",
       " 'HP-Simplified-Light',\n",
       " 'HP-Simplified-Light-Italic',\n",
       " 'Impact',\n",
       " 'Imprint-MT-Shadow',\n",
       " 'Informal-Roman',\n",
       " 'Ink-Free',\n",
       " 'Javanese-Text',\n",
       " 'Jokerman',\n",
       " 'Juice-ITC',\n",
       " 'KaiTi',\n",
       " 'Kristen-ITC',\n",
       " 'Kunstler-Script',\n",
       " 'Leelawadee-UI',\n",
       " 'Leelawadee-UI-Bold',\n",
       " 'Leelawadee-UI-Semilight',\n",
       " 'Lucida-Bright',\n",
       " 'Lucida-Bright-Demibold',\n",
       " 'Lucida-Bright-Demibold-Italic',\n",
       " 'Lucida-Bright-Italic',\n",
       " 'Lucida-Calligraphy-Italic',\n",
       " 'Lucida-Console',\n",
       " 'Lucida-Fax-Demibold',\n",
       " 'Lucida-Fax-Demibold-Italic',\n",
       " 'Lucida-Fax-Italic',\n",
       " 'Lucida-Fax-Regular',\n",
       " 'Lucida-Handwriting-Italic',\n",
       " 'Lucida-Sans-Demibold-Italic',\n",
       " 'Lucida-Sans-Demibold-Roman',\n",
       " 'Lucida-Sans-Italic',\n",
       " 'Lucida-Sans-Regular',\n",
       " 'Lucida-Sans-Typewriter-Bold',\n",
       " 'Lucida-Sans-Typewriter-Bold-Oblique',\n",
       " 'Lucida-Sans-Typewriter-Oblique',\n",
       " 'Lucida-Sans-Typewriter-Regular',\n",
       " 'Lucida-Sans-Unicode',\n",
       " 'Magneto-Bold',\n",
       " 'Maiandra-GD',\n",
       " 'Malgun-Gothic',\n",
       " 'Malgun-Gothic-Bold',\n",
       " 'Malgun-Gothic-SemiLight',\n",
       " 'Matura-MT-Script-Capitals',\n",
       " 'Microsoft-Himalaya',\n",
       " 'Microsoft-JhengHei-&-Microsoft-JhengHei-UI',\n",
       " 'Microsoft-JhengHei-Bold-&-Microsoft-JhengHei-UI-Bold',\n",
       " 'Microsoft-JhengHei-Light-&-Microsoft-JhengHei-UI-Light',\n",
       " 'Microsoft-New-Tai-Lue',\n",
       " 'Microsoft-New-Tai-Lue-Bold',\n",
       " 'Microsoft-PhagsPa',\n",
       " 'Microsoft-PhagsPa-Bold',\n",
       " 'Microsoft-Sans-Serif',\n",
       " 'Microsoft-Tai-Le',\n",
       " 'Microsoft-Tai-Le-Bold',\n",
       " 'Microsoft-YaHei-&-Microsoft-YaHei-UI',\n",
       " 'Microsoft-YaHei-Bold-&-Microsoft-YaHei-UI-Bold',\n",
       " 'Microsoft-YaHei-Light-&-Microsoft-YaHei-UI-Light',\n",
       " 'Microsoft-Yi-Baiti',\n",
       " 'MingLiU-ExtB-&-PMingLiU-ExtB-&-MingLiU_HKSCS-ExtB',\n",
       " 'Mistral',\n",
       " 'Modern-No.-20',\n",
       " 'Mongolian-Baiti',\n",
       " 'Monotype-Corsiva',\n",
       " 'MS-Gothic-&-MS-UI-Gothic-&-MS-PGothic',\n",
       " 'MS-Outlook',\n",
       " 'MS-Reference-Sans-Serif',\n",
       " 'MS-Reference-Specialty',\n",
       " 'MT-Extra',\n",
       " 'MV-Boli',\n",
       " 'Myanmar-Text',\n",
       " 'Myanmar-Text-Bold',\n",
       " 'Niagara-Engraved',\n",
       " 'Niagara-Solid',\n",
       " 'Nirmala-UI',\n",
       " 'Nirmala-UI-Bold',\n",
       " 'Nirmala-UI-Semilight',\n",
       " 'OCR-A-Extended',\n",
       " 'Old-English-Text-MT',\n",
       " 'Onyx',\n",
       " 'Palace-Script-MT',\n",
       " 'Palatino-Linotype',\n",
       " 'Palatino-Linotype-Bold',\n",
       " 'Palatino-Linotype-Bold-Italic',\n",
       " 'Palatino-Linotype-Italic',\n",
       " 'Papyrus',\n",
       " 'Parchment',\n",
       " 'Perpetua',\n",
       " 'Perpetua-Bold',\n",
       " 'Perpetua-Bold-Italic',\n",
       " 'Perpetua-Italic',\n",
       " 'Perpetua-Titling-MT-Bold',\n",
       " 'Perpetua-Titling-MT-Light',\n",
       " 'Playbill',\n",
       " 'Poor-Richard',\n",
       " 'Pristina',\n",
       " 'Rage-Italic',\n",
       " 'Ravie',\n",
       " 'Rockwell',\n",
       " 'Rockwell-Bold',\n",
       " 'Rockwell-Bold-Italic',\n",
       " 'Rockwell-Condensed',\n",
       " 'Rockwell-Condensed-Bold',\n",
       " 'Rockwell-Extra-Bold',\n",
       " 'Rockwell-Italic',\n",
       " 'Script-MT-Bold',\n",
       " 'Segoe-MDL2-Assets',\n",
       " 'Segoe-Print',\n",
       " 'Segoe-Print-Bold',\n",
       " 'Segoe-Script',\n",
       " 'Segoe-Script-Bold',\n",
       " 'Segoe-UI',\n",
       " 'Segoe-UI-Black',\n",
       " 'Segoe-UI-Black-Italic',\n",
       " 'Segoe-UI-Bold',\n",
       " 'Segoe-UI-Bold-Italic',\n",
       " 'Segoe-UI-Emoji',\n",
       " 'Segoe-UI-Historic',\n",
       " 'Segoe-UI-Italic',\n",
       " 'Segoe-UI-Light',\n",
       " 'Segoe-UI-Light-Italic',\n",
       " 'Segoe-UI-Semibold',\n",
       " 'Segoe-UI-Semibold-Italic',\n",
       " 'Segoe-UI-Semilight',\n",
       " 'Segoe-UI-Semilight-Italic',\n",
       " 'Segoe-UI-Symbol',\n",
       " 'Showcard-Gothic',\n",
       " 'SimHei',\n",
       " 'SimSun-&-NSimSun',\n",
       " 'SimSun-ExtB',\n",
       " 'Sitka-Small-&-Sitka-Text-&-Sitka-Subheading-&-Sitka-Heading-&-Sitka-Display-&-Sitka-Banner',\n",
       " 'Sitka-Small-Bold-&-Sitka-Text-Bold-&-Sitka-Subheading-Bold-&-Sitka-Heading-Bold-&-Sitka-Display-Bold-&-Sitka-Banner-Bold',\n",
       " 'Sitka-Small-Bold-Italic-&-Sitka-Text-Bold-Italic-&-Sitka-Subheading-Bold-Italic-&-Sitka-Heading-Bold-Italic-&-Sitka-Display-Bold-Italic-&-Sitka-Banner-Bold-Italic',\n",
       " 'Sitka-Small-Italic-&-Sitka-Text-Italic-&-Sitka-Subheading-Italic-&-Sitka-Heading-Italic-&-Sitka-Display-Italic-&-Sitka-Banner-Italic',\n",
       " 'Snap-ITC',\n",
       " 'Stencil',\n",
       " 'SWGamekeys-MT',\n",
       " 'Sylfaen',\n",
       " 'Symbol',\n",
       " 'Tahoma',\n",
       " 'Tahoma-Bold',\n",
       " 'Tempus-Sans-ITC',\n",
       " 'Times-New-Roman',\n",
       " 'Times-New-Roman-Bold',\n",
       " 'Times-New-Roman-Bold-Italic',\n",
       " 'Times-New-Roman-Italic',\n",
       " 'Trebuchet-MS',\n",
       " 'Trebuchet-MS-Bold',\n",
       " 'Trebuchet-MS-Bold-Italic',\n",
       " 'Trebuchet-MS-Italic',\n",
       " 'Tw-Cen-MT',\n",
       " 'Tw-Cen-MT-Bold',\n",
       " 'Tw-Cen-MT-Bold-Italic',\n",
       " 'Tw-Cen-MT-Condensed',\n",
       " 'Tw-Cen-MT-Condensed-Bold',\n",
       " 'Tw-Cen-MT-Condensed-Extra-Bold',\n",
       " 'Tw-Cen-MT-Italic',\n",
       " 'Verdana',\n",
       " 'Verdana-Bold',\n",
       " 'Verdana-Bold-Italic',\n",
       " 'Verdana-Italic',\n",
       " 'Viner-Hand-ITC',\n",
       " 'Vivaldi-Italic',\n",
       " 'Vladimir-Script',\n",
       " 'Webdings',\n",
       " 'Wide-Latin',\n",
       " 'Wingdings',\n",
       " 'Wingdings-2',\n",
       " 'Wingdings-3',\n",
       " 'Yu-Gothic-Bold-&-Yu-Gothic-UI-Semibold-&-Yu-Gothic-UI-Bold',\n",
       " 'Yu-Gothic-Light-&-Yu-Gothic-UI-Light',\n",
       " 'Yu-Gothic-Medium-&-Yu-Gothic-UI-Regular',\n",
       " 'Yu-Gothic-Regular-&-Yu-Gothic-UI-Semilight',\n",
       " 'ZWAdobeF']"
      ]
     },
     "execution_count": 9,
     "metadata": {},
     "output_type": "execute_result"
    }
   ],
   "source": [
    "#Customize Font in next cell block? See the list of available options by uncomment the next line:\n",
    "#TextClip.list('font')"
   ]
  },
  {
   "cell_type": "code",
   "execution_count": 10,
   "id": "9bb367b3",
   "metadata": {},
   "outputs": [
    {
     "name": "stdout",
     "output_type": "stream",
     "text": [
      "Moviepy - Building video test.mp4.\n",
      "MoviePy - Writing audio in testTEMP_MPY_wvf_snd.mp3\n"
     ]
    },
    {
     "name": "stderr",
     "output_type": "stream",
     "text": [
      "                                                                                                                       \r"
     ]
    },
    {
     "name": "stdout",
     "output_type": "stream",
     "text": [
      "MoviePy - Done.\n",
      "Moviepy - Writing video test.mp4\n",
      "\n"
     ]
    },
    {
     "name": "stderr",
     "output_type": "stream",
     "text": [
      "                                                                                                                       \r"
     ]
    },
    {
     "name": "stdout",
     "output_type": "stream",
     "text": [
      "Moviepy - Done !\n",
      "Moviepy - video ready test.mp4\n"
     ]
    }
   ],
   "source": [
    "import moviepy.editor as mp\n",
    "from moviepy.editor import ColorClip,TextClip\n",
    "import os #for video file name\n",
    "\n",
    "#Selected Video\n",
    "PATH_V = vc.selected\n",
    "video_dl = mp.VideoFileClip(PATH_V)\n",
    "\n",
    "#Dark background\n",
    "black_clip = ColorClip(size = video_dl.size, color = [0,0,0]).set_duration(video_dl.duration)\n",
    "\n",
    "#Selected GIF\n",
    "animated_gif = (mp.VideoFileClip(selected_gif_path)\n",
    "          .loop()\n",
    "          .set_duration(video_dl.duration)\n",
    "          .resize(width=200, height=300)\n",
    "          .margin(right=8, top=8, opacity=0)\n",
    "          .set_pos((\"center\",\"center\")))\n",
    "\n",
    "#video file rename\n",
    "vidfilename = vc.selected_filename\n",
    "vidfilename_abbrv = os.path.splitext(vidfilename)[0]\n",
    "#Title\n",
    "name_caption = vidfilename_abbrv + ' (slowed)'\n",
    "title_clip = TextClip(txt=name_caption, fontsize=30, font= 'Brush-Script-MT-Italic', color='white')\n",
    "title = title_clip.set_pos('bottom').set_duration(video_dl.duration)\n",
    "\n",
    "final = mp.CompositeVideoClip([video_dl, black_clip, animated_gif, title])\n",
    "final.write_videofile(\"test.mp4\")"
   ]
  },
  {
   "cell_type": "code",
   "execution_count": null,
   "id": "aa39c9ce",
   "metadata": {},
   "outputs": [],
   "source": []
  }
 ],
 "metadata": {
  "kernelspec": {
   "display_name": "Python 3 (ipykernel)",
   "language": "python",
   "name": "python3"
  },
  "language_info": {
   "codemirror_mode": {
    "name": "ipython",
    "version": 3
   },
   "file_extension": ".py",
   "mimetype": "text/x-python",
   "name": "python",
   "nbconvert_exporter": "python",
   "pygments_lexer": "ipython3",
   "version": "3.10.5"
  }
 },
 "nbformat": 4,
 "nbformat_minor": 5
}
