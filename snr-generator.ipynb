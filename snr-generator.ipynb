{
 "cells": [
  {
   "cell_type": "markdown",
   "id": "0b12b550",
   "metadata": {},
   "source": [
    "# Slowed and Reverb Music Video Maker\n",
    "\n",
    "References to project:\n",
    "- [Youtube video downloader on SO](https://stackoverflow.com/questions/65802599/how-to-download-youtube-video-in-the-highest-quality-available)\n",
    "- [File Chooser widget](https://pypi.org/project/ipyfilechooser/)\n",
    "\n",
    "References for download progress bar from: [1](https://stackoverflow.com/questions/56197879/how-to-use-progress-bar-in-pytube) and [2](https://stackoverflow.com/questions/56197879/how-to-use-progress-bar-in-pytube).\n",
    "\n",
    "pip installs:\n",
    "- pytube\n",
    "- ipyfilechooser\n",
    "- moviepy"
   ]
  },
  {
   "cell_type": "markdown",
   "id": "3dde417b",
   "metadata": {},
   "source": [
    "Import relevant libraries for this project."
   ]
  },
  {
   "cell_type": "code",
   "execution_count": 29,
   "id": "71193189",
   "metadata": {},
   "outputs": [],
   "source": [
    "#YouTube library\n",
    "import pytube\n",
    "from pytube.cli import on_progress\n",
    "import sys\n",
    "from ipyfilechooser import FileChooser\n",
    "import ipywidgets as widgets"
   ]
  },
  {
   "cell_type": "markdown",
   "id": "3d8f09bb",
   "metadata": {},
   "source": [
    "### Specify the PATH for the videos to be saved here:"
   ]
  },
  {
   "cell_type": "code",
   "execution_count": 2,
   "id": "5a78e35d",
   "metadata": {},
   "outputs": [
    {
     "name": "stdout",
     "output_type": "stream",
     "text": [
      "> C:\\Users\\asher\\Downloads\n"
     ]
    }
   ],
   "source": [
    "PATH = input(\"> \")"
   ]
  },
  {
   "cell_type": "markdown",
   "id": "3ddb5cee",
   "metadata": {},
   "source": [
    "### Insert the URL of the song you want to convert. "
   ]
  },
  {
   "cell_type": "code",
   "execution_count": 4,
   "id": "9f35c1a1",
   "metadata": {},
   "outputs": [
    {
     "name": "stdout",
     "output_type": "stream",
     "text": [
      "> https://www.youtube.com/watch?v=omT5rKmU5_k\n",
      "Download Complete!████████████████████████████████████| 100.0%\n"
     ]
    }
   ],
   "source": [
    "#video downloader\n",
    "def download():\n",
    "    video_url = url\n",
    "    try:\n",
    "        youtube = pytube.YouTube(video_url, on_progress_callback = progress_func)\n",
    "        video = youtube.streams.last()\n",
    "        video.download(PATH)\n",
    "        print(\"Download Complete!   \")\n",
    "    except Exception as e:\n",
    "        print(e)\n",
    "        print(\"Video could not be downloaded.\")\n",
    "\n",
    "#progress bar function        \n",
    "def progress_func(stream, chunk, bytes_remaining):\n",
    "    current = ((stream.filesize - bytes_remaining)/stream.filesize)\n",
    "    percent = ('{0:.1f}').format(current * 100)\n",
    "    progress = int(50 * current)\n",
    "    status = '█' * progress + '-' * (50 - progress)\n",
    "    sys.stdout.write(' ↳ |{bar}| {percent}%\\r'.format(bar = status, percent = percent))\n",
    "    sys.stdout.flush()\n",
    "    \n",
    "url = input(\"> \")\n",
    "download()"
   ]
  },
  {
   "cell_type": "markdown",
   "id": "bd7eb983",
   "metadata": {},
   "source": [
    "### Select a GIF to loop for the entire duration of the video."
   ]
  },
  {
   "cell_type": "code",
   "execution_count": 36,
   "id": "c3ec589b",
   "metadata": {
    "scrolled": true
   },
   "outputs": [
    {
     "data": {
      "application/vnd.jupyter.widget-view+json": {
       "model_id": "c8c917dce20d491eb2c708d165937464",
       "version_major": 2,
       "version_minor": 0
      },
      "text/plain": [
       "FileChooser(path='C:\\Users\\asher\\OneDrive\\personal projects\\snr maker', filename='', title='', show_hidden=Fal…"
      ]
     },
     "metadata": {},
     "output_type": "display_data"
    }
   ],
   "source": [
    "fc = FileChooser()\n",
    "# Can put PATH into FileChooser argument if GIFs are saved in the same directory as the .WEBM files\n",
    "display(fc)"
   ]
  },
  {
   "cell_type": "code",
   "execution_count": 42,
   "id": "0fc27e89",
   "metadata": {},
   "outputs": [
    {
     "name": "stdout",
     "output_type": "stream",
     "text": [
      "You have selected: \n",
      "\n",
      "aesthetic-anime-anime.gif\n"
     ]
    },
    {
     "data": {
      "application/vnd.jupyter.widget-view+json": {
       "model_id": "3f9553937c4740158f243035342ea05b",
       "version_major": 2,
       "version_minor": 0
      },
      "text/plain": [
       "Image(value=b'GIF89a\\xdc\\x00Y\\x00\\xf7\\xc0\\x00\\x00\\x00\\x00\\x00\\x00\\x00\\x00\\x00\\x00\\x00\\x00\\x00\\x00\\x00\\x00\\x00\\…"
      ]
     },
     "execution_count": 42,
     "metadata": {},
     "output_type": "execute_result"
    }
   ],
   "source": [
    "print('You have selected: \\n')\n",
    "print(fc.selected_filename)\n",
    "selected_gif_path = fc.selected\n",
    "\n",
    "file = open(selected_gif_path, \"rb\")\n",
    "image = file.read()\n",
    "widgets.Image(\n",
    "    value=image,\n",
    "    format='gif',\n",
    "    width=300,\n",
    "    height=400,\n",
    ")"
   ]
  },
  {
   "cell_type": "code",
   "execution_count": null,
   "id": "55ad71e5",
   "metadata": {},
   "outputs": [],
   "source": [
    "import moviepy.editor as mp\n",
    "\n",
    "video = mp.VideoFileClip(\"video.mp4\")\n",
    "\n",
    "logo = (mp.ImageClip(\"logo.png\")\n",
    "          .set_duration(video.duration)\n",
    "          .resize(height=50) # if you need to resize...\n",
    "          .margin(right=8, top=8, opacity=0) # (optional) logo-border padding\n",
    "          .set_pos((\"center\",\"center\")))\n",
    "\n",
    "final = mp.CompositeVideoClip([video, logo])\n",
    "final.write_videofile(\"test.mp4\")"
   ]
  }
 ],
 "metadata": {
  "kernelspec": {
   "display_name": "Python 3 (ipykernel)",
   "language": "python",
   "name": "python3"
  },
  "language_info": {
   "codemirror_mode": {
    "name": "ipython",
    "version": 3
   },
   "file_extension": ".py",
   "mimetype": "text/x-python",
   "name": "python",
   "nbconvert_exporter": "python",
   "pygments_lexer": "ipython3",
   "version": "3.10.5"
  }
 },
 "nbformat": 4,
 "nbformat_minor": 5
}
